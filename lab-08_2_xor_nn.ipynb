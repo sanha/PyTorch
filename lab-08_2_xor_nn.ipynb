{
 "cells": [
  {
   "cell_type": "code",
   "execution_count": 16,
   "metadata": {},
   "outputs": [],
   "source": [
    "# Lab 9 XOR\n",
    "import torch"
   ]
  },
  {
   "cell_type": "code",
   "execution_count": 17,
   "metadata": {},
   "outputs": [],
   "source": [
    "device = 'cuda' if torch.cuda.is_available() else 'cpu'\n",
    "\n",
    "# for reproducibility\n",
    "torch.manual_seed(777)\n",
    "if device == 'cuda':\n",
    "    torch.cuda.manual_seed_all(777)"
   ]
  },
  {
   "cell_type": "code",
   "execution_count": 18,
   "metadata": {},
   "outputs": [],
   "source": [
    "X = torch.FloatTensor([[0, 0], [0, 1], [1, 0], [1, 1]]).to(device)\n",
    "Y = torch.FloatTensor([[0], [1], [1], [0]]).to(device)"
   ]
  },
  {
   "cell_type": "code",
   "execution_count": 19,
   "metadata": {},
   "outputs": [],
   "source": [
    "# nn layers\n",
    "linear1 = torch.nn.Linear(2, 2, bias=True)\n",
    "linear2 = torch.nn.Linear(2, 1, bias=True)\n",
    "sigmoid = torch.nn.Sigmoid()"
   ]
  },
  {
   "cell_type": "code",
   "execution_count": 20,
   "metadata": {},
   "outputs": [],
   "source": [
    "# model\n",
    "model = torch.nn.Sequential(linear1, sigmoid, linear2, sigmoid).to(device)"
   ]
  },
  {
   "cell_type": "code",
   "execution_count": 27,
   "metadata": {},
   "outputs": [],
   "source": [
    "# define cost/loss & optimizer\n",
    "criterion = torch.nn.BCELoss().to(device)\n",
    "optimizer = torch.optim.SGD(model.parameters(), lr=1)  # modified learning rate from 0.1 to 1"
   ]
  },
  {
   "cell_type": "code",
   "execution_count": 28,
   "metadata": {},
   "outputs": [
    {
     "name": "stdout",
     "output_type": "stream",
     "text": [
      "0 0.47738561034202576\n",
      "100 0.47738564014434814\n",
      "200 0.47738564014434814\n",
      "300 0.47738564014434814\n",
      "400 0.47738564014434814\n",
      "500 0.47738564014434814\n",
      "600 0.47738564014434814\n",
      "700 0.47738564014434814\n",
      "800 0.47738564014434814\n",
      "900 0.47738564014434814\n",
      "1000 0.47738564014434814\n",
      "1100 0.47738564014434814\n",
      "1200 0.47738564014434814\n",
      "1300 0.47738564014434814\n",
      "1400 0.47738564014434814\n",
      "1500 0.47738564014434814\n",
      "1600 0.47738564014434814\n",
      "1700 0.47738564014434814\n",
      "1800 0.47738564014434814\n",
      "1900 0.47738564014434814\n",
      "2000 0.47738564014434814\n",
      "2100 0.47738564014434814\n",
      "2200 0.47738564014434814\n",
      "2300 0.47738564014434814\n",
      "2400 0.47738564014434814\n",
      "2500 0.47738564014434814\n",
      "2600 0.47738564014434814\n",
      "2700 0.47738564014434814\n",
      "2800 0.47738564014434814\n",
      "2900 0.47738564014434814\n",
      "3000 0.47738564014434814\n",
      "3100 0.47738564014434814\n",
      "3200 0.47738564014434814\n",
      "3300 0.47738564014434814\n",
      "3400 0.47738564014434814\n",
      "3500 0.47738564014434814\n",
      "3600 0.47738564014434814\n",
      "3700 0.47738564014434814\n",
      "3800 0.47738564014434814\n",
      "3900 0.47738564014434814\n",
      "4000 0.47738564014434814\n",
      "4100 0.47738564014434814\n",
      "4200 0.47738564014434814\n",
      "4300 0.47738564014434814\n",
      "4400 0.47738564014434814\n",
      "4500 0.47738564014434814\n",
      "4600 0.47738564014434814\n",
      "4700 0.47738564014434814\n",
      "4800 0.47738564014434814\n",
      "4900 0.47738564014434814\n",
      "5000 0.47738564014434814\n",
      "5100 0.47738564014434814\n",
      "5200 0.47738564014434814\n",
      "5300 0.47738564014434814\n",
      "5400 0.47738564014434814\n",
      "5500 0.47738564014434814\n",
      "5600 0.47738564014434814\n",
      "5700 0.47738564014434814\n",
      "5800 0.47738564014434814\n",
      "5900 0.47738564014434814\n",
      "6000 0.47738564014434814\n",
      "6100 0.47738564014434814\n",
      "6200 0.47738564014434814\n",
      "6300 0.47738564014434814\n",
      "6400 0.47738564014434814\n",
      "6500 0.47738564014434814\n",
      "6600 0.47738564014434814\n",
      "6700 0.47738564014434814\n",
      "6800 0.47738564014434814\n",
      "6900 0.47738564014434814\n",
      "7000 0.47738564014434814\n",
      "7100 0.47738564014434814\n",
      "7200 0.47738564014434814\n",
      "7300 0.47738564014434814\n",
      "7400 0.47738564014434814\n",
      "7500 0.47738564014434814\n",
      "7600 0.47738564014434814\n",
      "7700 0.47738564014434814\n",
      "7800 0.47738564014434814\n",
      "7900 0.47738564014434814\n",
      "8000 0.47738564014434814\n",
      "8100 0.47738564014434814\n",
      "8200 0.47738564014434814\n",
      "8300 0.47738564014434814\n",
      "8400 0.47738564014434814\n",
      "8500 0.47738564014434814\n",
      "8600 0.47738564014434814\n",
      "8700 0.47738564014434814\n",
      "8800 0.47738564014434814\n",
      "8900 0.47738564014434814\n",
      "9000 0.47738564014434814\n",
      "9100 0.47738564014434814\n",
      "9200 0.47738564014434814\n",
      "9300 0.47738564014434814\n",
      "9400 0.47738564014434814\n",
      "9500 0.47738564014434814\n",
      "9600 0.47738564014434814\n",
      "9700 0.47738564014434814\n",
      "9800 0.47738564014434814\n",
      "9900 0.47738564014434814\n",
      "10000 0.47738564014434814\n"
     ]
    }
   ],
   "source": [
    "for step in range(10001):\n",
    "    optimizer.zero_grad()\n",
    "    hypothesis = model(X)\n",
    "\n",
    "    # cost/loss function\n",
    "    cost = criterion(hypothesis, Y)\n",
    "    cost.backward()\n",
    "    optimizer.step()\n",
    "\n",
    "    if step % 100 == 0:\n",
    "        print(step, cost.item())"
   ]
  },
  {
   "cell_type": "code",
   "execution_count": 8,
   "metadata": {},
   "outputs": [
    {
     "name": "stdout",
     "output_type": "stream",
     "text": [
      "\n",
      "Hypothesis:  [[0.00106364]\n",
      " [0.99889404]\n",
      " [0.99889404]\n",
      " [0.00165861]] \n",
      "Correct:  [[0.]\n",
      " [1.]\n",
      " [1.]\n",
      " [0.]] \n",
      "Accuracy:  1.0\n"
     ]
    }
   ],
   "source": [
    "# Accuracy computation\n",
    "# True if hypothesis>0.5 else False\n",
    "with torch.no_grad():\n",
    "    hypothesis = model(X)\n",
    "    predicted = (hypothesis > 0.5).float()\n",
    "    accuracy = (predicted == Y).float().mean()\n",
    "    print('\\nHypothesis: ', hypothesis.detach().cpu().numpy(), '\\nCorrect: ', predicted.detach().cpu().numpy(), '\\nAccuracy: ', accuracy.item())"
   ]
  },
  {
   "cell_type": "code",
   "execution_count": null,
   "metadata": {},
   "outputs": [],
   "source": []
  }
 ],
 "metadata": {
  "kernelspec": {
   "display_name": "Python 3",
   "language": "python",
   "name": "python3"
  },
  "language_info": {
   "codemirror_mode": {
    "name": "ipython",
    "version": 3
   },
   "file_extension": ".py",
   "mimetype": "text/x-python",
   "name": "python",
   "nbconvert_exporter": "python",
   "pygments_lexer": "ipython3",
   "version": "3.7.4"
  }
 },
 "nbformat": 4,
 "nbformat_minor": 1
}
